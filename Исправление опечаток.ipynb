{
 "cells": [
  {
   "cell_type": "code",
   "execution_count": 1,
   "metadata": {
    "collapsed": true
   },
   "outputs": [],
   "source": [
    "import pandas as pd"
   ]
  },
  {
   "cell_type": "code",
   "execution_count": 8,
   "metadata": {},
   "outputs": [
    {
     "name": "stdout",
     "output_type": "stream",
     "text": [
      "  Name    V\n",
      "0    a    0\n",
      "1    b    1\n",
      "2    c    2\n",
      "3    d   40\n",
      "4    e    5\n",
      "5    f  100\n"
     ]
    }
   ],
   "source": [
    "data = [[\"a\", 0], [\"b\", 1], [\"c\", 2], [\"d\", 40], [\"e\", 5], [\"f\", 100]]\n",
    "\n",
    "df = pd.DataFrame(data, columns=[\"Name\", \"V\"])\n",
    "print(df)"
   ]
  },
  {
   "cell_type": "code",
   "execution_count": 10,
   "metadata": {},
   "outputs": [
    {
     "name": "stdout",
     "output_type": "stream",
     "text": [
      "0    False\n",
      "1    False\n",
      "2    False\n",
      "3     True\n",
      "4    False\n",
      "5     True\n",
      "Name: V, dtype: bool\n"
     ]
    }
   ],
   "source": [
    "# Если мы хотим исправить опечатки в виде лишних нулей в конце, т.е. 100 -> 10, 400 -> 4, то сначала находим все строки, где есть эти опечатки.\n",
    "# Составляем вектор с признаками опечаток. Если в 3 строке датасета есть опечатка, то в 3 элементе вектора будет 1, иначе там 0.\n",
    "# Это называется булевский вектор или boolean vector.\n",
    "\n",
    "bool_vec = (df[\"V\"] > 10) & (df[\"V\"] % 10 == 0)\n",
    "print(bool_vec)"
   ]
  },
  {
   "cell_type": "code",
   "execution_count": 24,
   "metadata": {},
   "outputs": [
    {
     "name": "stdout",
     "output_type": "stream",
     "text": [
      "  Name    V  V_corrected\n",
      "0    a    0          0.0\n",
      "1    b    1          1.0\n",
      "2    c    2          2.0\n",
      "3    d   40          4.0\n",
      "4    e    5          5.0\n",
      "5    f  100         10.0\n"
     ]
    }
   ],
   "source": [
    "# сначала копируем все значения V в новый столбец\n",
    "df[\"V_corrected\"] = df[\"V\"]\n",
    "\n",
    "# потом исправляем опечатки\n",
    "df.loc[bool_vec, \"V_corrected\"] = df[bool_vec][\"V_corrected\"] / 10\n",
    "\n",
    "print(df)"
   ]
  },
  {
   "cell_type": "code",
   "execution_count": null,
   "metadata": {
    "collapsed": true
   },
   "outputs": [],
   "source": []
  }
 ],
 "metadata": {
  "kernelspec": {
   "display_name": "Python 3",
   "language": "python",
   "name": "python3"
  },
  "language_info": {
   "codemirror_mode": {
    "name": "ipython",
    "version": 3
   },
   "file_extension": ".py",
   "mimetype": "text/x-python",
   "name": "python",
   "nbconvert_exporter": "python",
   "pygments_lexer": "ipython3",
   "version": "3.6.1"
  }
 },
 "nbformat": 4,
 "nbformat_minor": 2
}
